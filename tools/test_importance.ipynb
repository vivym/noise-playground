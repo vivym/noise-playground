{
 "cells": [
  {
   "cell_type": "code",
   "execution_count": 1,
   "metadata": {},
   "outputs": [
    {
     "name": "stderr",
     "output_type": "stream",
     "text": [
      "/data/yangming/.conda/envs/noise/lib/python3.9/site-packages/tqdm/auto.py:22: TqdmWarning: IProgress not found. Please update jupyter and ipywidgets. See https://ipywidgets.readthedocs.io/en/stable/user_install.html\n",
      "  from .autonotebook import tqdm as notebook_tqdm\n"
     ]
    }
   ],
   "source": [
    "import torch\n",
    "\n",
    "from test_importance import build_dataloader_and_model, inference"
   ]
  },
  {
   "cell_type": "code",
   "execution_count": 7,
   "metadata": {},
   "outputs": [],
   "source": [
    "def get_importances(dataset_name: str, model_name: str):\n",
    "    device = torch.device(\"cuda\")\n",
    "\n",
    "    dataloader, model = build_dataloader_and_model(\n",
    "        dataset_name=dataset_name,\n",
    "        batch_size=64,\n",
    "        num_workers=4,\n",
    "        model_name=model_name,\n",
    "        dataset_root=\"../data\"\n",
    "    )\n",
    "    model.eval()\n",
    "    model.to(device)\n",
    "    model.register_importance_hooks()\n",
    "\n",
    "    inference(dataloader, model, device)\n",
    "\n",
    "    return model.get_importances()"
   ]
  },
  {
   "cell_type": "code",
   "execution_count": 8,
   "metadata": {},
   "outputs": [
    {
     "name": "stdout",
     "output_type": "stream",
     "text": [
      "Files already downloaded and verified\n"
     ]
    }
   ],
   "source": [
    "cifar10_vgg16_importances = get_importances(\"cifar10\", \"vgg16\")"
   ]
  },
  {
   "cell_type": "code",
   "execution_count": 22,
   "metadata": {},
   "outputs": [
    {
     "data": {
      "image/png": "[encoded data removed]",
      "text/plain": [
       "<Figure size 640x480 with 1 Axes>"
      ]
     },
     "metadata": {},
     "output_type": "display_data"
    }
   ],
   "source": [
    "from matplotlib import pyplot as plt\n",
    "\n",
    "\n",
    "def draw_importances(importances):\n",
    "    for layer_idx in [2, 7, 12]:\n",
    "        layer_scores = importances[layer_idx - 1]\n",
    "        layer_scores = layer_scores.cpu().sort(descending=True)[0].numpy()\n",
    "        plt.plot(range(layer_scores.shape[0]), layer_scores, label=f\"Conv. layer {layer_idx}\")\n",
    "    plt.legend(loc=\"upper right\")\n",
    "    plt.show()\n",
    "\n",
    "\n",
    "draw_importances(cifar10_vgg16_importances)"
   ]
  },
  {
   "cell_type": "code",
   "execution_count": 1,
   "metadata": {},
   "outputs": [
    {
     "ename": "NameError",
     "evalue": "name 'cifar10_vgg16_importances' is not defined",
     "output_type": "error",
     "traceback": [
      "\u001b[0;31m---------------------------------------------------------------------------\u001b[0m",
      "\u001b[0;31mNameError\u001b[0m                                 Traceback (most recent call last)",
      "\u001b[1;32m/data/yangming/synced_projs/noise-playground/tools/test_importance.ipynb Cell 5\u001b[0m in \u001b[0;36m<cell line: 17>\u001b[0;34m()\u001b[0m\n\u001b[1;32m     <a href='vscode-notebook-cell://ssh-remote%2Bvcg_23/data/yangming/synced_projs/noise-playground/tools/test_importance.ipynb#W4sdnNjb2RlLXJlbW90ZQ%3D%3D?line=12'>13</a>\u001b[0m     plt\u001b[39m.\u001b[39mlegend(loc\u001b[39m=\u001b[39m\u001b[39m\"\u001b[39m\u001b[39mupper right\u001b[39m\u001b[39m\"\u001b[39m)\n\u001b[1;32m     <a href='vscode-notebook-cell://ssh-remote%2Bvcg_23/data/yangming/synced_projs/noise-playground/tools/test_importance.ipynb#W4sdnNjb2RlLXJlbW90ZQ%3D%3D?line=13'>14</a>\u001b[0m     plt\u001b[39m.\u001b[39mshow()\n\u001b[0;32m---> <a href='vscode-notebook-cell://ssh-remote%2Bvcg_23/data/yangming/synced_projs/noise-playground/tools/test_importance.ipynb#W4sdnNjb2RlLXJlbW90ZQ%3D%3D?line=16'>17</a>\u001b[0m draw_importances(cifar10_vgg16_importances)\n",
      "\u001b[0;31mNameError\u001b[0m: name 'cifar10_vgg16_importances' is not defined"
     ]
    }
   ],
   "source": [
    "import numpy as np\n",
    "\n",
    "\n",
    "def draw_importances(importances):\n",
    "    for layer_idx in [2, 7, 12]:\n",
    "        layer_scores = importances[layer_idx - 1]\n",
    "        layer_scores = layer_scores.cpu().sort(descending=True)[0].numpy()\n",
    "\n",
    "        plt.plot(\n",
    "            np.linspace(0, 1, num=layer_scores.shape[0]), layer_scores,\n",
    "            label=f\"Conv. layer {layer_idx}\",\n",
    "        )\n",
    "    plt.legend(loc=\"upper right\")\n",
    "    plt.show()\n",
    "\n",
    "\n",
    "draw_importances(cifar10_vgg16_importances)"
   ]
  }
 ],
 "metadata": {
  "kernelspec": {
   "display_name": "Python 3.9.13 ('noise')",
   "language": "python",
   "name": "python3"
  },
  "language_info": {
   "codemirror_mode": {
    "name": "ipython",
    "version": 3
   },
   "file_extension": ".py",
   "mimetype": "text/x-python",
   "name": "python",
   "nbconvert_exporter": "python",
   "pygments_lexer": "ipython3",
   "version": "3.9.13"
  },
  "orig_nbformat": 4,
  "vscode": {
   "interpreter": {
    "hash": "1a204534276e8db8d1eb352ff2abbae2e87e1caddb2f3995741dbceb7c4e11c7"
   }
  }
 },
 "nbformat": 4,
 "nbformat_minor": 2
}
